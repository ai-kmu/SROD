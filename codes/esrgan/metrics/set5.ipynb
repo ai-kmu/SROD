{
 "cells": [
  {
   "cell_type": "code",
   "execution_count": 13,
   "metadata": {
    "ExecuteTime": {
     "end_time": "2020-12-16T12:05:10.976556Z",
     "start_time": "2020-12-16T12:05:10.964855Z"
    }
   },
   "outputs": [
    {
     "name": "stdout",
     "output_type": "stream",
     "text": [
      "['/workspace/daehee/a_SR_models/EDSR-PyTorch/experiment/Urban100_MSRN_BI_X4_png/results-Urban100', '/workspace/daehee/a_SR_models/EDSR-PyTorch/experiment/Urban100_SMSRN_BI_X4_png/results-Urban100']\n",
      "/workspace/daehee/a_SR_models/EDSR-PyTorch/dataset/benchmark/Urban100/HR\n"
     ]
    }
   ],
   "source": [
    "import glob\n",
    "benchmark = 'Urban100'\n",
    "gt = '/workspace/daehee/a_SR_models/EDSR-PyTorch/dataset/benchmark/{}/HR'.format(benchmark)\n",
    "\n",
    "keyword = '{}*MSRN*_png/results-{}'.format(benchmark,benchmark)\n",
    "dir_gens = glob.glob('/workspace/daehee/a_SR_models/EDSR-PyTorch/experiment/{}'.format(keyword))\n",
    "\n",
    "\n",
    "dir_gens.sort()\n",
    "print(dir_gens)\n",
    "print(gt)"
   ]
  },
  {
   "cell_type": "code",
   "execution_count": 14,
   "metadata": {
    "ExecuteTime": {
     "end_time": "2020-12-16T12:05:18.860234Z",
     "start_time": "2020-12-16T12:05:12.303381Z"
    }
   },
   "outputs": [
    {
     "name": "stdout",
     "output_type": "stream",
     "text": [
      "Testing Y channel.\n",
      "  1 - img001                   . \tPSNR: 0.000000 dB, \tSSIM: 0.772452\n",
      "  2 - img002                   . \tPSNR: 0.000000 dB, \tSSIM: 0.823721\n",
      "Traceback (most recent call last):\n",
      "  File \"calculate_PSNR_SSIM_custom.py\", line 161, in <module>\n",
      "    main(args)\n",
      "  File \"calculate_PSNR_SSIM_custom.py\", line 72, in main\n",
      "    SSIM = calculate_ssim(cropped_GT * 255, cropped_Gen * 255)\n",
      "  File \"calculate_PSNR_SSIM_custom.py\", line 121, in calculate_ssim\n",
      "    raise ValueError('Input images must have the same dimensions.')\n",
      "ValueError: Input images must have the same dimensions.\n",
      "/workspace/daehee/a_SR_models/EDSR-PyTorch/experiment/Urban100_MSRN_BI_X4_png/results-Urban100\n",
      "---------\n",
      "---------\n",
      "Testing Y channel.\n",
      "  1 - img001                   . \tPSNR: 0.000000 dB, \tSSIM: 0.757308\n",
      "  2 - img002                   . \tPSNR: 0.000000 dB, \tSSIM: 0.800024\n",
      "Traceback (most recent call last):\n",
      "  File \"calculate_PSNR_SSIM_custom.py\", line 161, in <module>\n",
      "    main(args)\n",
      "  File \"calculate_PSNR_SSIM_custom.py\", line 72, in main\n",
      "    SSIM = calculate_ssim(cropped_GT * 255, cropped_Gen * 255)\n",
      "  File \"calculate_PSNR_SSIM_custom.py\", line 121, in calculate_ssim\n",
      "    raise ValueError('Input images must have the same dimensions.')\n",
      "ValueError: Input images must have the same dimensions.\n",
      "/workspace/daehee/a_SR_models/EDSR-PyTorch/experiment/Urban100_SMSRN_BI_X4_png/results-Urban100\n",
      "---------\n",
      "---------\n"
     ]
    }
   ],
   "source": [
    "# B100\n",
    "for gen in dir_gens:\n",
    "    !python calculate_PSNR_SSIM_custom.py --dir_gt {gt} --dir_gen {gen}\n",
    "    print(gen)\n",
    "    print('---------')\n",
    "    print('---------')"
   ]
  },
  {
   "cell_type": "code",
   "execution_count": 9,
   "metadata": {
    "ExecuteTime": {
     "end_time": "2020-12-16T12:01:45.999945Z",
     "start_time": "2020-12-16T12:01:42.866686Z"
    }
   },
   "outputs": [
    {
     "name": "stdout",
     "output_type": "stream",
     "text": [
      "Testing Y channel.\n",
      "  1 - baboon                   . \tPSNR: 0.000000 dB, \tSSIM: 0.538387\n",
      "  2 - barbara                  . \tPSNR: 0.000000 dB, \tSSIM: 0.756772\n",
      "  3 - bridge                   . \tPSNR: 0.000000 dB, \tSSIM: 0.642000\n",
      "  4 - coastguard               . \tPSNR: 0.000000 dB, \tSSIM: 0.574934\n",
      "Traceback (most recent call last):\n",
      "  File \"calculate_PSNR_SSIM_custom.py\", line 161, in <module>\n",
      "    main(args)\n",
      "  File \"calculate_PSNR_SSIM_custom.py\", line 72, in main\n",
      "    SSIM = calculate_ssim(cropped_GT * 255, cropped_Gen * 255)\n",
      "  File \"calculate_PSNR_SSIM_custom.py\", line 121, in calculate_ssim\n",
      "    raise ValueError('Input images must have the same dimensions.')\n",
      "ValueError: Input images must have the same dimensions.\n",
      "/workspace/daehee/a_SR_models/EDSR-PyTorch/experiment/Set14_MSRN_BI_X4_png/results-Set14\n",
      "---------\n",
      "---------\n",
      "Testing Y channel.\n",
      "  1 - baboon                   . \tPSNR: 0.000000 dB, \tSSIM: 0.525013\n",
      "  2 - barbara                  . \tPSNR: 0.000000 dB, \tSSIM: 0.744677\n",
      "  3 - bridge                   . \tPSNR: 0.000000 dB, \tSSIM: 0.638916\n",
      "  4 - coastguard               . \tPSNR: 0.000000 dB, \tSSIM: 0.569150\n",
      "Traceback (most recent call last):\n",
      "  File \"calculate_PSNR_SSIM_custom.py\", line 161, in <module>\n",
      "    main(args)\n",
      "  File \"calculate_PSNR_SSIM_custom.py\", line 72, in main\n",
      "    SSIM = calculate_ssim(cropped_GT * 255, cropped_Gen * 255)\n",
      "  File \"calculate_PSNR_SSIM_custom.py\", line 121, in calculate_ssim\n",
      "    raise ValueError('Input images must have the same dimensions.')\n",
      "ValueError: Input images must have the same dimensions.\n",
      "/workspace/daehee/a_SR_models/EDSR-PyTorch/experiment/Set14_SMSRN_BI_X4_png/results-Set14\n",
      "---------\n",
      "---------\n"
     ]
    }
   ],
   "source": [
    "# Set14\n",
    "for gen in dir_gens:\n",
    "    !python calculate_PSNR_SSIM_custom.py --dir_gt {gt} --dir_gen {gen}\n",
    "    print(gen)\n",
    "    print('---------')\n",
    "    print('---------')"
   ]
  },
  {
   "cell_type": "code",
   "execution_count": 5,
   "metadata": {
    "ExecuteTime": {
     "end_time": "2020-12-16T11:56:57.289987Z",
     "start_time": "2020-12-16T11:56:54.582621Z"
    }
   },
   "outputs": [
    {
     "name": "stdout",
     "output_type": "stream",
     "text": [
      "Testing Y channel.\n",
      "  1 - baby                     . \tPSNR: 33.752121 dB, \tSSIM: 0.893431\n",
      "  2 - bird                     . \tPSNR: 35.041378 dB, \tSSIM: 0.945507\n",
      "  3 - butterfly                . \tPSNR: 28.742251 dB, \tSSIM: 0.926025\n",
      "  4 - head                     . \tPSNR: 32.961601 dB, \tSSIM: 0.797534\n",
      "  5 - woman                    . \tPSNR: 30.289888 dB, \tSSIM: 0.913049\n",
      "Average: PSNR: 32.157448 dB, SSIM: 0.895109\n",
      "/workspace/daehee/a_SR_models/EDSR-PyTorch/experiment/Set5_MSRN_BI_X4_png/results-Set5\n",
      "---------\n",
      "---------\n",
      "Testing Y channel.\n",
      "  1 - baby                     . \tPSNR: 33.611776 dB, \tSSIM: 0.891406\n",
      "  2 - bird                     . \tPSNR: 34.049053 dB, \tSSIM: 0.934576\n",
      "  3 - butterfly                . \tPSNR: 27.697496 dB, \tSSIM: 0.912285\n",
      "  4 - head                     . \tPSNR: 32.892156 dB, \tSSIM: 0.794501\n",
      "  5 - woman                    . \tPSNR: 30.417239 dB, \tSSIM: 0.910175\n",
      "Average: PSNR: 31.733544 dB, SSIM: 0.888588\n",
      "/workspace/daehee/a_SR_models/EDSR-PyTorch/experiment/Set5_SMSRN_BI_X4_png/results-Set5\n",
      "---------\n",
      "---------\n"
     ]
    }
   ],
   "source": [
    "# Set5\n",
    "for gen in dir_gens:\n",
    "    !python calculate_PSNR_SSIM_custom.py --dir_gt {gt} --dir_gen {gen}\n",
    "    print(gen)\n",
    "    print('---------')\n",
    "    print('---------')"
   ]
  },
  {
   "cell_type": "code",
   "execution_count": 4,
   "metadata": {
    "ExecuteTime": {
     "end_time": "2020-09-26T00:11:29.809568Z",
     "start_time": "2020-09-26T00:11:29.796722Z"
    }
   },
   "outputs": [
    {
     "name": "stdout",
     "output_type": "stream",
     "text": [
      "/workspace/daehee/a_SR_models/EDSR-PyTorch/dataset/benchmark/Set5/ssim_LR_bicubicL_BD/X2/\n",
      "/workspace/daehee/a_SR_models/EDSR-PyTorch/dataset/benchmark/Set5/ssim_LR_bicubicL_BD/X4/\n",
      "/workspace/daehee/a_SR_models/EDSR-PyTorch/dataset/benchmark/Set5/ssim_LR_bicubicL_BI/X2/\n",
      "/workspace/daehee/a_SR_models/EDSR-PyTorch/dataset/benchmark/Set5/ssim_LR_bicubicL_BI/X4/\n",
      "/workspace/daehee/a_SR_models/EDSR-PyTorch/dataset/benchmark/Set5/ssim_LR_bicubicL_DN/X2/\n",
      "/workspace/daehee/a_SR_models/EDSR-PyTorch/dataset/benchmark/Set5/ssim_LR_bicubicL_DN/X4/\n"
     ]
    }
   ],
   "source": [
    "import glob\n",
    "bicubic_BI = glob.glob('/workspace/daehee/a_SR_models/EDSR-PyTorch/dataset/benchmark/Set5/ssim_LR_bicubicL_BI/*/')\n",
    "bicubic_BD = glob.glob('/workspace/daehee/a_SR_models/EDSR-PyTorch/dataset/benchmark/Set5/ssim_LR_bicubicL_BD/*/')\n",
    "bicubic_DN = glob.glob('/workspace/daehee/a_SR_models/EDSR-PyTorch/dataset/benchmark/Set5/ssim_LR_bicubicL_DN/*/')\n",
    "bicubic = bicubic_BI + bicubic_BD + bicubic_DN\n",
    "bicubic.sort()\n",
    "for i in bicubic:\n",
    "    print(i)\n"
   ]
  },
  {
   "cell_type": "code",
   "execution_count": 5,
   "metadata": {
    "ExecuteTime": {
     "end_time": "2020-09-26T00:11:38.458038Z",
     "start_time": "2020-09-26T00:11:30.349391Z"
    }
   },
   "outputs": [
    {
     "name": "stdout",
     "output_type": "stream",
     "text": [
      "Testing Y channel.\n",
      "  1 - baby                     . \tPSNR: 33.181382 dB, \tSSIM: 0.894925\n",
      "  2 - bird                     . \tPSNR: 31.667049 dB, \tSSIM: 0.915302\n",
      "  3 - butterfly                . \tPSNR: 23.358844 dB, \tSSIM: 0.811007\n",
      "  4 - head                     . \tPSNR: 32.548144 dB, \tSSIM: 0.790519\n",
      "  5 - woman                    . \tPSNR: 27.904352 dB, \tSSIM: 0.879857\n",
      "Average: PSNR: 29.731954 dB, SSIM: 0.858322\n",
      "/workspace/daehee/a_SR_models/EDSR-PyTorch/dataset/benchmark/Set5/ssim_LR_bicubicL_BD/X2/\n",
      "---------\n",
      "---------\n",
      "Testing Y channel.\n",
      "  1 - baby                     . \tPSNR: 31.599105 dB, \tSSIM: 0.854420\n",
      "  2 - bird                     . \tPSNR: 29.946183 dB, \tSSIM: 0.869991\n",
      "  3 - butterfly                . \tPSNR: 21.920418 dB, \tSSIM: 0.732684\n",
      "  4 - head                     . \tPSNR: 31.516138 dB, \tSSIM: 0.752019\n",
      "  5 - woman                    . \tPSNR: 26.313821 dB, \tSSIM: 0.829474\n",
      "Average: PSNR: 28.259133 dB, SSIM: 0.807718\n",
      "/workspace/daehee/a_SR_models/EDSR-PyTorch/dataset/benchmark/Set5/ssim_LR_bicubicL_BD/X4/\n",
      "---------\n",
      "---------\n",
      "Testing Y channel.\n",
      "  1 - baby                     . \tPSNR: 37.530813 dB, \tSSIM: 0.960109\n",
      "  2 - bird                     . \tPSNR: 38.251683 dB, \tSSIM: 0.979717\n",
      "  3 - butterfly                . \tPSNR: 28.336240 dB, \tSSIM: 0.927927\n",
      "  4 - head                     . \tPSNR: 35.009948 dB, \tSSIM: 0.872870\n",
      "  5 - woman                    . \tPSNR: 33.060716 dB, \tSSIM: 0.956707\n",
      "Average: PSNR: 34.437880 dB, SSIM: 0.939466\n",
      "/workspace/daehee/a_SR_models/EDSR-PyTorch/dataset/benchmark/Set5/ssim_LR_bicubicL_BI/X2/\n",
      "---------\n",
      "---------\n",
      "Testing Y channel.\n",
      "  1 - baby                     . \tPSNR: 31.095064 dB, \tSSIM: 0.860972\n",
      "  2 - bird                     . \tPSNR: 29.670179 dB, \tSSIM: 0.881377\n",
      "  3 - butterfly                . \tPSNR: 21.255851 dB, \tSSIM: 0.728404\n",
      "  4 - head                     . \tPSNR: 30.586365 dB, \tSSIM: 0.744821\n",
      "  5 - woman                    . \tPSNR: 25.851716 dB, \tSSIM: 0.835513\n",
      "Average: PSNR: 27.691835 dB, SSIM: 0.810217\n",
      "/workspace/daehee/a_SR_models/EDSR-PyTorch/dataset/benchmark/Set5/ssim_LR_bicubicL_BI/X4/\n",
      "---------\n",
      "---------\n",
      "Testing Y channel.\n",
      "  1 - baby                     . \tPSNR: 25.045973 dB, \tSSIM: 0.477571\n",
      "  2 - bird                     . \tPSNR: 24.896392 dB, \tSSIM: 0.534531\n",
      "  3 - butterfly                . \tPSNR: 23.473205 dB, \tSSIM: 0.633439\n",
      "  4 - head                     . \tPSNR: 25.016355 dB, \tSSIM: 0.454153\n",
      "  5 - woman                    . \tPSNR: 24.661840 dB, \tSSIM: 0.541974\n",
      "Average: PSNR: 24.618753 dB, SSIM: 0.528334\n",
      "/workspace/daehee/a_SR_models/EDSR-PyTorch/dataset/benchmark/Set5/ssim_LR_bicubicL_DN/X2/\n",
      "---------\n",
      "---------\n",
      "Testing Y channel.\n",
      "  1 - baby                     . \tPSNR: 24.245158 dB, \tSSIM: 0.525398\n",
      "  2 - bird                     . \tPSNR: 23.866351 dB, \tSSIM: 0.580528\n",
      "  3 - butterfly                . \tPSNR: 19.795172 dB, \tSSIM: 0.557625\n",
      "  4 - head                     . \tPSNR: 24.494800 dB, \tSSIM: 0.473904\n",
      "  5 - woman                    . \tPSNR: 22.586163 dB, \tSSIM: 0.552631\n",
      "Average: PSNR: 22.997529 dB, SSIM: 0.538017\n",
      "/workspace/daehee/a_SR_models/EDSR-PyTorch/dataset/benchmark/Set5/ssim_LR_bicubicL_DN/X4/\n",
      "---------\n",
      "---------\n"
     ]
    }
   ],
   "source": [
    "for gen in bicubic:\n",
    "    !python calculate_PSNR_SSIM_custom.py --dir_gt {gt} --dir_gen {gen}\n",
    "    print(gen)\n",
    "    print('---------')\n",
    "    print('---------')"
   ]
  },
  {
   "cell_type": "code",
   "execution_count": null,
   "metadata": {},
   "outputs": [],
   "source": []
  }
 ],
 "metadata": {
  "kernelspec": {
   "display_name": "Python 3",
   "language": "python",
   "name": "python3"
  },
  "language_info": {
   "codemirror_mode": {
    "name": "ipython",
    "version": 3
   },
   "file_extension": ".py",
   "mimetype": "text/x-python",
   "name": "python",
   "nbconvert_exporter": "python",
   "pygments_lexer": "ipython3",
   "version": "3.6.9"
  },
  "toc": {
   "base_numbering": 1,
   "nav_menu": {},
   "number_sections": true,
   "sideBar": true,
   "skip_h1_title": false,
   "title_cell": "Table of Contents",
   "title_sidebar": "Contents",
   "toc_cell": false,
   "toc_position": {},
   "toc_section_display": true,
   "toc_window_display": false
  },
  "varInspector": {
   "cols": {
    "lenName": 16,
    "lenType": 16,
    "lenVar": 40
   },
   "kernels_config": {
    "python": {
     "delete_cmd_postfix": "",
     "delete_cmd_prefix": "del ",
     "library": "var_list.py",
     "varRefreshCmd": "print(var_dic_list())"
    },
    "r": {
     "delete_cmd_postfix": ") ",
     "delete_cmd_prefix": "rm(",
     "library": "var_list.r",
     "varRefreshCmd": "cat(var_dic_list()) "
    }
   },
   "types_to_exclude": [
    "module",
    "function",
    "builtin_function_or_method",
    "instance",
    "_Feature"
   ],
   "window_display": false
  }
 },
 "nbformat": 4,
 "nbformat_minor": 2
}
